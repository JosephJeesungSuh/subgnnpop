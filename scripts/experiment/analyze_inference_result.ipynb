{
 "cells": [
  {
   "cell_type": "code",
   "execution_count": null,
   "metadata": {},
   "outputs": [],
   "source": [
    "import pandas as pd\n",
    "\n",
    "path_to_inference_data = './opnqa_QA_test_llama-2-7b-subpop-FT.csv' # change path to your data\n",
    "dataset_name = 'subpop-eval' # subpop-eval or opinionqa\n",
    "\n",
    "df = pd.read_csv(path_to_inference_data)\n",
    "HIGH_RELEVANCE_QKEYS = {\n",
    "    # questions that have high cosine similiarity with at least one fine-tuning questions\n",
    "    'subpop-eval': [\n",
    "        \"marital\", \"satjob\", \"attend\", \"relpersn\", \"othlang\"\n",
    "    ],\n",
    "    'opinionqa': [\n",
    "        \"RACESURV34b_W43\", \"TRAITPOLWF1E_W36\", \"COMMIMPB_W32\", \"GAP21Q21_a_W82\", \"COMMIMPC_W32\", \"WHADVANT_W92\", \"RACESURV14_W43\", \"GROWUPVIOL_W26\", \"GAP21Q34_f_W82\", \"WHYNOTBIZF2F_W36\", \"SATLIFEc_W50\", \"GAP21Q19_a_W82\", \"HARASS3NOWRKF2_W41\", \"RACESURV5l_W43\", \"GOVPRIOiF1_W41\", \"GAP21Q7_b_W82\", \"WORRY2a_W54\", \"WHYNOTPOLF1E_W36\", \"COMMIMPH_W32\", \"REPRSNTREP_W92\", \"RACESURV5f_W43\", \"HOMEASSIST2_W49\", \"WHYNOTPOLF1G_W36\", \"CONFe_W42\", \"GAP21Q7_a_W82\", \"RACESURV34a_W43\", \"GAYMARR2_W32\", \"TRAITPOLMF1F_W36\", \"RACESURV5i_W43\", \"REASONGUNE_W26\", \"SATLIFED_W32\", \"GAP21Q34_e_W82\", \"GAP21Q17_W82\", \"GAP21Q43_g_W82\", \"GOVREGV1_W49\", \"WHYNOTBIZF2A_W36\", \"E5_W36\", \"ELECT_IMPT3_PRVFR_W92\", \"TRAITPOLWF1G_W36\", \"TRAITPOLMF1G_W36\", \"WORRY2c_W54\", \"GOVPRIORITYd_W54\", \"WHYNOTPOLF1A_W36\", \"RACESURV5a_W43\", \"RACESURV28e_W43\", \"ECON5_i_W54\", \"GOVPRIORITYb_W54\", \"REPRSNTDEM_W92\", \"GAP21Q4_e_W82\", \"RACESURV28c_W43\", \"NEWSPROBd_W45\", \"ELECT_CONF3_PRVFR_W92\", \"GAP21Q34_c_W82\", \"CONFg_W42\", \"WORRY2e_W54\", \"RACESURV28d_W43\", \"GAP21Q34_d_W82\", \"INFOCREATEa_W45\", \"COMMIMPF_W32\", \"WHYNOTPOLF1B_W36\", \"GAP21Q4_f_W82\", \"GAP21Q4_b_W82\", \"RACESURV5b_W43\", \"GOVPRIOkF2_W41\", \"FAMSURV44_W50\", \"GAP21Q7_d_W82\", \"GOVPRIOnF2_W41\", \"MOVESUBURB_W32\", \"REASONGUNA_W26\", \"ELECT_CONF3_PRVSUP_W92\", \"GOVPRIOb_W41\", \"RACESURV28b_W43\", \"GAP21Q10_W82\", \"NEWS_PLATFORMg_W45\", \"GAP21Q34_b_W82\", \"RACESURV5g_W43\", \"CONFb_W42\", \"GAP21Q4_d_W82\", \"GUNCONTRIBA_W26\", \"ETHNCMAJMOD_W41\", \"WORRY2b_W54\", \"TRAITPOLMF1E_W36\", \"ETHNCMAJ_W32\", \"WHYNOTBIZF2D_W36\", \"ECIMPg_W54\", \"NEWSPROBe_W45\", \"ESSENPOLF1H_W36\", \"WHADVANT_W32\", \"WORRY2d_W54\", \"WHYNOTBIZF2B_W36\", \"GOVPRIOoF2_W41\", \"GOVPRIORITYc_W54\", \"SOCIETY_SSM_W92\", \"WHYNOTPOLF1I_W36\", \"PP5e_W49\", \"REASONGUND_W26\", \"TRAITPOLWF1F_W36\", \"COMMIMPA_W32\", \"CONTROLCO_W49\", \"GOVPRIOgF1_W41\", \"RACESURV5j_W43\", \"RACESURV28g_W43\", \"FAMSURV2Ma_W50\", \"ECON5_h_W54\", \"RACESURV5d_W43\", \"FAMSURV1_W50\", \"WHYNOTBIZF2G_W36\", \"RACESURV5e_W43\", \"GAP21Q4_a_W82\", \"USEXCEPT_W92\", \"GAP21Q34_a_W82\", \"GAP21Q4_c_W82\", \"GAP21Q21_e_W82\", \"RACESURV13_W43\", \"BENEFITGOV_W49\", \"USMILSIZ_W92\", \"RACESURV48_W43\", \"GAP21Q33_j_W82\", \"REASONGUNC_W26\", \"CONFc_W42\", \"COMMIMPG_W32\", \"FAMSURV2Wa_W50\", \"RACESURV28a_W43\", \"ECON1_W54\", \"REASONGUNB_W26\", \"CONCERNGRPa_W49\", \"RACESURV28f_W43\", \"WILLMOVE_W32\", \"CONCERNCO_W49\", \"E5MOD_W50\", \"GAP21Q23_W82\"\n",
    "    ]\n",
    "}"
   ]
  },
  {
   "cell_type": "markdown",
   "metadata": {},
   "source": [
    "### Get the overall (dataset-level) WD"
   ]
  },
  {
   "cell_type": "code",
   "execution_count": null,
   "metadata": {},
   "outputs": [],
   "source": [
    "df = df[~df['qkey'].isin(HIGH_RELEVANCE_QKEYS[dataset_name])]\n",
    "print(df['emd'].mean())"
   ]
  },
  {
   "cell_type": "markdown",
   "metadata": {},
   "source": [
    "### Get the subpopulation level WD"
   ]
  },
  {
   "cell_type": "code",
   "execution_count": null,
   "metadata": {},
   "outputs": [],
   "source": [
    "# Example: subpopulation-level WD, for race / ethnicity group White\n",
    "df_white = df[df['group'] == 'White'].reset_index(drop=True)\n",
    "print(df_white['emd'].mean())\n",
    "\n",
    "# Example: subpopulation-level WD, for political affiliation group Republican\n",
    "df_white = df[df['group'] == 'Republican'].reset_index(drop=True)\n",
    "print(df_white['emd'].mean())"
   ]
  }
 ],
 "metadata": {
  "kernelspec": {
   "display_name": "subpop",
   "language": "python",
   "name": "python3"
  },
  "language_info": {
   "codemirror_mode": {
    "name": "ipython",
    "version": 3
   },
   "file_extension": ".py",
   "mimetype": "text/x-python",
   "name": "python",
   "nbconvert_exporter": "python",
   "pygments_lexer": "ipython3",
   "version": "3.10.16"
  }
 },
 "nbformat": 4,
 "nbformat_minor": 2
}
